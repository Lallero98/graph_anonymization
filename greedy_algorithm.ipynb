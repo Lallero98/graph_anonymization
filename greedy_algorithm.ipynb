{
 "cells": [
  {
   "cell_type": "code",
   "execution_count": 13,
   "metadata": {},
   "outputs": [],
   "source": [
    "import kdegree\n",
    "\n",
    "dataset = Dataset/graph_friend_100_10_100.csv\n",
    "k = 5 "
   ]
  },
  {
   "cell_type": "code",
   "execution_count": null,
   "metadata": {},
   "outputs": [],
   "source": []
  }
 ],
 "metadata": {
  "kernelspec": {
   "name": "python3",
   "display_name": "Python 3.9.1 64-bit ('wvenv': venv)",
   "metadata": {
    "interpreter": {
     "hash": "be3d1d491277fd610b10f9f68284a54b51326613759ea9665a2693877d0ff3d1"
    }
   }
  }
 },
 "nbformat": 4,
 "nbformat_minor": 5
}