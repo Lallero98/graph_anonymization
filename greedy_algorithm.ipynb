{
 "cells": [
  {
   "cell_type": "markdown",
   "id": "excess-thousand",
   "metadata": {},
   "source": [
    "## Towards Identity Anonymization on Graphs \n",
    "Hands-on notebook on the various algorithms defined in the paper by Liu and Terzi. "
   ]
  },
  {
   "cell_type": "markdown",
   "id": "stainless-blond",
   "metadata": {},
   "source": [
    "A graph G is formed by a set of nodes linked together by edges. Let's take the example of a social media dataset. The graph contains all the users and the friendship relations. Each node carry some information. This information is a multidimensional dataset. Once anonymized this dataset, an analyst who wants to deanonymize the graph has nothing to use but the number of edges that one node has, the _degree_ of the node. The _degree_ is the only value that distinguish a node from another one. If the analyst wants to determine which node is Marco, he can't determine it using the single node's information. However, if he knows that Marco has 12 friends (_background knowledge_) and there is only one node that has exactly 12 edges, he will have successfully deanonymized Marco. "
   ]
  },
  {
   "cell_type": "markdown",
   "id": "specified-context",
   "metadata": {},
   "source": [
    "To prevent this, there should be at least two nodes with _degree_ 12. In this case, the probability the analyst deanonymize Marco is 1/2. So, to generalize this, we want that for each node with a _degree d_ there are at least another _k-1_ nodes with the same _degree d_. This way the chance the analyst has to deanonymize a node is at least 1/k. This is called **k-degree anonymization**. Let's define a couple of things before starting to define the problem."
   ]
  },
  {
   "cell_type": "markdown",
   "id": "developed-sensitivity",
   "metadata": {},
   "source": []
  }
 ],
 "metadata": {
  "kernelspec": {
   "display_name": "Python 3",
   "language": "python",
   "name": "python3"
  },
  "language_info": {
   "codemirror_mode": {
    "name": "ipython",
    "version": 3
   },
   "file_extension": ".py",
   "mimetype": "text/x-python",
   "name": "python",
   "nbconvert_exporter": "python",
   "pygments_lexer": "ipython3",
   "version": "3.9.1"
  }
 },
 "nbformat": 4,
 "nbformat_minor": 5
}
