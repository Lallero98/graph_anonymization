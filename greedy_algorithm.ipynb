{
 "cells": [
  {
   "cell_type": "code",
   "execution_count": 11,
   "metadata": {},
   "outputs": [],
   "source": [
    "import kdegree\n",
    "import networkx as nx \n",
    "import numpy as np\n",
    "\n",
    "file_graph = \"Dataset/graph_friend_100_10_100.csv\"\n",
    "k_degree = 5 "
   ]
  },
  {
   "cell_type": "code",
   "execution_count": 20,
   "metadata": {},
   "outputs": [
    {
     "output_type": "stream",
     "name": "stdout",
     "text": [
      "Array of degrees (d) : [97, 15, 74, 12, 54, 52, 41, 38, 74, 65, 62, 37, 25, 96, 33, 56, 11, 62, 33, 30, 53, 62, 13, 21, 59, 48, 46, 65, 51, 49, 17, 14, 72, 64, 72, 33, 53, 10, 64, 43, 51, 31, 30, 76, 38, 45, 29, 57, 78, 64, 64, 97, 52, 57, 65, 47, 67, 43, 32, 14, 41, 10, 56, 59, 30, 89, 42, 38, 58, 53, 75, 58, 42, 56, 43, 55, 38, 40, 45, 49, 51, 44, 50, 56, 38, 35, 76, 83, 17, 27, 38, 63, 34, 42, 25, 51, 48, 64, 65, 23]\nArray of degrees sorted (array_degrees) : [97 97 96 89 83 78 76 76 75 74 74 72 72 67 65 65 65 65 64 64 64 64 64 63\n 62 62 62 59 59 58 58 57 57 56 56 56 56 55 54 53 53 53 52 52 51 51 51 51\n 50 49 49 48 48 47 46 45 45 44 43 43 43 42 42 42 41 41 40 38 38 38 38 38\n 38 37 35 34 33 33 33 32 31 30 30 30 29 27 25 25 23 21 17 17 15 14 14 13\n 12 11 10 10]\n"
     ]
    },
    {
     "output_type": "error",
     "ename": "NameError",
     "evalue": "name 'd' is not defined",
     "traceback": [
      "\u001b[1;31m---------------------------------------------------------------------------\u001b[0m",
      "\u001b[1;31mNameError\u001b[0m                                 Traceback (most recent call last)",
      "\u001b[1;32m<ipython-input-20-294b1c41ffeb>\u001b[0m in \u001b[0;36m<module>\u001b[1;34m\u001b[0m\n\u001b[0;32m     29\u001b[0m \u001b[0marray_degrees_greedy\u001b[0m \u001b[1;33m=\u001b[0m \u001b[0marray_degrees\u001b[0m\u001b[1;33m\u001b[0m\u001b[1;33m\u001b[0m\u001b[0m\n\u001b[0;32m     30\u001b[0m \u001b[1;31m# TODO insert here the code\u001b[0m\u001b[1;33m\u001b[0m\u001b[1;33m\u001b[0m\u001b[1;33m\u001b[0m\u001b[0m\n\u001b[1;32m---> 31\u001b[1;33m \u001b[0mkdegree\u001b[0m\u001b[1;33m.\u001b[0m\u001b[0mgreedy_rec_algorithm\u001b[0m\u001b[1;33m(\u001b[0m\u001b[0marray_degrees_greedy\u001b[0m\u001b[1;33m,\u001b[0m \u001b[0mk_degree\u001b[0m\u001b[1;33m,\u001b[0m \u001b[1;36m0\u001b[0m\u001b[1;33m,\u001b[0m \u001b[0mk_degree\u001b[0m\u001b[1;33m)\u001b[0m\u001b[1;33m\u001b[0m\u001b[1;33m\u001b[0m\u001b[0m\n\u001b[0m\u001b[0;32m     32\u001b[0m \u001b[1;33m\u001b[0m\u001b[0m\n\u001b[0;32m     33\u001b[0m \u001b[0mgraph_greedy\u001b[0m \u001b[1;33m=\u001b[0m \u001b[0mconstruct_graph\u001b[0m\u001b[1;33m(\u001b[0m\u001b[0marray_index\u001b[0m\u001b[1;33m,\u001b[0m \u001b[0marray_degrees_greedy\u001b[0m\u001b[1;33m)\u001b[0m\u001b[1;33m\u001b[0m\u001b[1;33m\u001b[0m\u001b[0m\n",
      "\u001b[1;32mc:\\Users\\salve\\Desktop\\graph_anonymization\\kdegree.py\u001b[0m in \u001b[0;36mgreedy_rec_algorithm\u001b[1;34m(array_degrees, k_degree, pos_init, extension)\u001b[0m\n\u001b[0;32m     36\u001b[0m         \u001b[0md1\u001b[0m \u001b[1;33m=\u001b[0m \u001b[0marray_degrees\u001b[0m\u001b[1;33m[\u001b[0m\u001b[0mpos_init\u001b[0m\u001b[1;33m]\u001b[0m\u001b[1;33m\u001b[0m\u001b[1;33m\u001b[0m\u001b[0m\n\u001b[0;32m     37\u001b[0m         \u001b[0mc_merge_cost\u001b[0m \u001b[1;33m=\u001b[0m \u001b[0mc_merge\u001b[0m\u001b[1;33m(\u001b[0m\u001b[0marray_degrees\u001b[0m\u001b[1;33m,\u001b[0m \u001b[0md1\u001b[0m\u001b[1;33m,\u001b[0m \u001b[0mpos_init\u001b[0m \u001b[1;33m+\u001b[0m \u001b[0mextension\u001b[0m\u001b[1;33m)\u001b[0m\u001b[1;33m\u001b[0m\u001b[1;33m\u001b[0m\u001b[0m\n\u001b[1;32m---> 38\u001b[1;33m         \u001b[0mc_new_cost\u001b[0m \u001b[1;33m=\u001b[0m \u001b[0mc_new\u001b[0m\u001b[1;33m(\u001b[0m\u001b[0md\u001b[0m\u001b[1;33m,\u001b[0m \u001b[0mpos_init\u001b[0m \u001b[1;33m+\u001b[0m \u001b[0mextension\u001b[0m\u001b[1;33m)\u001b[0m\u001b[1;33m\u001b[0m\u001b[1;33m\u001b[0m\u001b[0m\n\u001b[0m\u001b[0;32m     39\u001b[0m         \u001b[1;32mif\u001b[0m \u001b[0mc_merge_cost\u001b[0m \u001b[1;33m>\u001b[0m \u001b[0mc_new_cost\u001b[0m\u001b[1;33m:\u001b[0m\u001b[1;33m\u001b[0m\u001b[1;33m\u001b[0m\u001b[0m\n\u001b[0;32m     40\u001b[0m             \u001b[1;32mfor\u001b[0m \u001b[0mi\u001b[0m \u001b[1;32min\u001b[0m \u001b[0mrange\u001b[0m\u001b[1;33m(\u001b[0m\u001b[0mpos_init\u001b[0m\u001b[1;33m,\u001b[0m \u001b[0mpos_init\u001b[0m \u001b[1;33m+\u001b[0m \u001b[0mextension\u001b[0m\u001b[1;33m)\u001b[0m\u001b[1;33m:\u001b[0m\u001b[1;33m\u001b[0m\u001b[1;33m\u001b[0m\u001b[0m\n",
      "\u001b[1;31mNameError\u001b[0m: name 'd' is not defined"
     ]
    }
   ],
   "source": [
    "G = nx.Graph()\n",
    "    \n",
    "if os.path.exists(file_graph): \n",
    "    # if file exist\n",
    "    with open(file_graph) as f:\n",
    "        content = f.readlines()\n",
    "    # read each line\n",
    "    content = [x.strip() for x in content]\n",
    "    for line in content:\n",
    "        # split name inside each line\n",
    "        names = line.split(\",\")\n",
    "        start_node = names[0]\n",
    "        if start_node not in G:\n",
    "            G.add_node(start_node)\n",
    "        for index in range(1, len(names)):\n",
    "            node_to_add = names[index]\n",
    "            if node_to_add not in G:\n",
    "                G.add_node(node_to_add)\n",
    "            G.add_edge(start_node, node_to_add)\n",
    "\n",
    "nx.draw(G)\n",
    "\n",
    "# Degree arrays preparation\n",
    "d = [x[1] for x in G.degree()]\n",
    "array_index = np.argsort(d)[::-1]\n",
    "array_degrees = np.sort(d)[::-1]\n",
    "print(\"Array of degrees (d) : {}\".format(d))\n",
    "print(\"Array of degrees sorted (array_degrees) : {}\".format(array_degrees))\n",
    "array_degrees_greedy = array_degrees\n",
    "# TODO insert here the code\n",
    "kdegree.greedy_rec_algorithm(array_degrees_greedy, k_degree, 0, k_degree)\n",
    "\n",
    "graph_greedy = construct_graph(array_index, array_degrees_greedy)\n",
    "print(\"graph_greedy_nodes: \", end=\"\")\n",
    "print(graph_greedy.nodes)\n",
    "print(\"graph_greedy_nodes sorted: \", end=\"\")\n",
    "print(np.sort(graph_greedy.nodes))"
   ]
  },
  {
   "cell_type": "code",
   "execution_count": null,
   "metadata": {},
   "outputs": [],
   "source": []
  }
 ],
 "metadata": {
  "kernelspec": {
   "name": "python3",
   "display_name": "Python 3",
   "language": "python"
  }
 },
 "nbformat": 4,
 "nbformat_minor": 5
}